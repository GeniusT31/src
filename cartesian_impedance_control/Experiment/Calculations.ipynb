{
 "cells": [
  {
   "cell_type": "code",
   "execution_count": 2,
   "id": "bd1bf9a2",
   "metadata": {},
   "outputs": [
    {
     "name": "stdout",
     "output_type": "stream",
     "text": [
      "Libraries imported\n"
     ]
    }
   ],
   "source": [
    "import numpy as np\n",
    "print(\"Libraries imported\")"
   ]
  },
  {
   "cell_type": "code",
   "execution_count": 41,
   "id": "7520f714",
   "metadata": {},
   "outputs": [],
   "source": [
    "theta = 45\n",
    "matrix = np.array([\n",
    "    [0 , np.sin(theta * np.pi / 180)],\n",
    "    [2 * np.cos(theta * np.pi / 180), np.cos(theta * np.pi / 180)]\n",
    "])"
   ]
  },
  {
   "cell_type": "code",
   "execution_count": 42,
   "id": "cec10554",
   "metadata": {},
   "outputs": [
    {
     "data": {
      "text/plain": [
       "np.float64(0.9999999999999999)"
      ]
     },
     "execution_count": 42,
     "metadata": {},
     "output_type": "execute_result"
    }
   ],
   "source": [
    "np.linalg.det(matrix @ matrix.T)"
   ]
  },
  {
   "cell_type": "code",
   "execution_count": null,
   "id": "6aa4dd4d",
   "metadata": {},
   "outputs": [],
   "source": [
    "\n",
    "matrix = np.array([\n",
    "    [-np.sqrt(2), -1],\n",
    "    [np.sqrt(2), 0]\n",
    "])"
   ]
  },
  {
   "cell_type": "code",
   "execution_count": 28,
   "id": "85839951",
   "metadata": {},
   "outputs": [
    {
     "name": "stdout",
     "output_type": "stream",
     "text": [
      "0\n",
      "5\n",
      "10\n",
      "15\n",
      "20\n",
      "25\n",
      "30\n",
      "35\n",
      "40\n",
      "45\n",
      "50\n",
      "55\n",
      "60\n",
      "65\n",
      "70\n",
      "75\n",
      "0.9999999999999999\n",
      "75\n",
      "[[0.         0.70710678]\n",
      " [1.41421356 0.70710678]]\n"
     ]
    }
   ],
   "source": [
    "largest = 0\n",
    "angle = 0\n",
    "for i in range(0,80,5):\n",
    "    theta = i\n",
    "    matrix = np.array([\n",
    "    [0 , np.sin(theta * np.pi / 180)],\n",
    "    [2 * np.cos(theta * np.pi / 180), np.cos(theta * np.pi / 180)]])\n",
    "    man = np.linalg.det(matrix @ matrix.T)\n",
    "    print(i)\n",
    "\n",
    "    if(man > largest):\n",
    "        largest = man\n",
    "        angle = i\n",
    "        huh = matrix\n",
    "\n",
    "print(largest)\n",
    "print(theta)\n",
    "print(huh)"
   ]
  },
  {
   "cell_type": "code",
   "execution_count": null,
   "id": "50111da0",
   "metadata": {},
   "outputs": [],
   "source": []
  }
 ],
 "metadata": {
  "kernelspec": {
   "display_name": "Python 3",
   "language": "python",
   "name": "python3"
  },
  "language_info": {
   "codemirror_mode": {
    "name": "ipython",
    "version": 3
   },
   "file_extension": ".py",
   "mimetype": "text/x-python",
   "name": "python",
   "nbconvert_exporter": "python",
   "pygments_lexer": "ipython3",
   "version": "3.9.6"
  }
 },
 "nbformat": 4,
 "nbformat_minor": 5
}
